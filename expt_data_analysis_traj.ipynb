{
 "cells": [
  {
   "cell_type": "code",
   "execution_count": 6,
   "id": "53de46f1",
   "metadata": {},
   "outputs": [],
   "source": [
    "import numpy as np\n",
    "import scipy.io as sio\n",
    "import copy\n",
    "\n",
    "# load experimental data\n",
    "expt_data = sio.loadmat('directory_for_embryo_coordinate_data') # Please contact Professor Tzer Han Tan (tztan@ucsd.edu) for the data\n",
    "x_arr = expt_data['Xmat'] # x coordinates of embryos\n",
    "y_arr = expt_data['Ymat'] # y coordinates of embryos\n",
    "\n",
    "# process the data so that we use the trajectories longer than 10 frames and in the later half of the time\n",
    "N = 4879 # number of total trajectories\n",
    "t_half = 400 # the length of the full trajectory is 800. We only use the later half.\n",
    "\n",
    "trajptnum = np.zeros(N) # elements = number of points in ith trajectory\n",
    "trajlongenough = np.zeros(N) # element = 1 if the number of points > 10\n",
    "\n",
    "for i in range(N):\n",
    "    xcopy = copy.copy(x_arr[i,t_half:])\n",
    "    ptnum = len(xcopy[xcopy!=0]) # length of the chosen trajectory\n",
    "    trajptnum[i] = ptnum\n",
    "    if ptnum>10:\n",
    "        trajlongenough[i]=1 # mark if it is longer than 10 frames\n",
    "\n",
    "longtrajnum = len(trajlongenough[trajlongenough!=0]) # number of trajectories longer than 10\n",
    "\n",
    "x_new = np.zeros([longtrajnum,t_half]) # array of the desired trajectories\n",
    "y_new = np.zeros([longtrajnum,t_half])\n",
    "\n",
    "idxnew = 0\n",
    "\n",
    "for i in range(N):\n",
    "    if trajlongenough[i]==1:\n",
    "        x_new[idxnew,:] = x_arr[i,t_half:]\n",
    "        y_new[idxnew,:] = y_arr[i,t_half:]\n",
    "        idxnew = idxnew + 1\n",
    "        \n",
    "# save the experimental data in .dat format so that I can analyze it in C.\n",
    "np.savetxt('x_longtraj_laterhalf_v3.dat',x_new)\n",
    "np.savetxt('y_longtraj_laterhalf_v3.dat',y_new)\n"
   ]
  }
 ],
 "metadata": {
  "kernelspec": {
   "display_name": "Python 3 (ipykernel)",
   "language": "python",
   "name": "python3"
  },
  "language_info": {
   "codemirror_mode": {
    "name": "ipython",
    "version": 3
   },
   "file_extension": ".py",
   "mimetype": "text/x-python",
   "name": "python",
   "nbconvert_exporter": "python",
   "pygments_lexer": "ipython3",
   "version": "3.11.5"
  }
 },
 "nbformat": 4,
 "nbformat_minor": 5
}
